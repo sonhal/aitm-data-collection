{
 "cells": [
  {
   "cell_type": "code",
   "execution_count": 23,
   "id": "5f88a015",
   "metadata": {},
   "outputs": [],
   "source": [
    "import scraper\n",
    "import os\n",
    "from dotenv import load_dotenv\n",
    "import pandas as pd\n",
    "pd.set_option('display.max_colwidth', None)"
   ]
  },
  {
   "cell_type": "code",
   "execution_count": 2,
   "id": "9afd3d69",
   "metadata": {},
   "outputs": [
    {
     "data": {
      "text/plain": [
       "40"
      ]
     },
     "execution_count": 2,
     "metadata": {},
     "output_type": "execute_result"
    }
   ],
   "source": [
    "load_dotenv()\n",
    "token = os.getenv(\"AITM_TOKEN\")\n",
    "len(token)"
   ]
  },
  {
   "cell_type": "code",
   "execution_count": 3,
   "id": "6a00c013",
   "metadata": {},
   "outputs": [
    {
     "data": {
      "text/plain": [
       "['oidc-client filename:package.json path:/ express filename:package.json',\n",
       " 'openid-client filename:package.json path:/ express filename:package.json']"
      ]
     },
     "execution_count": 3,
     "metadata": {},
     "output_type": "execute_result"
    }
   ],
   "source": [
    "[scraper.query1, scraper.query2]"
   ]
  },
  {
   "cell_type": "markdown",
   "id": "ea066d15",
   "metadata": {},
   "source": [
    "### Fetch repositories"
   ]
  },
  {
   "cell_type": "code",
   "execution_count": null,
   "id": "941453bc",
   "metadata": {},
   "outputs": [],
   "source": [
    "repos1 = scraper.find_repos_for(scraper.query1, token)"
   ]
  },
  {
   "cell_type": "code",
   "execution_count": null,
   "id": "50631538",
   "metadata": {},
   "outputs": [],
   "source": [
    "repos2 = scraper.find_repos_for(scraper.query2, token)"
   ]
  },
  {
   "cell_type": "code",
   "execution_count": null,
   "id": "71688fe7",
   "metadata": {},
   "outputs": [],
   "source": [
    "len(repos1) + len(repos2)"
   ]
  },
  {
   "cell_type": "markdown",
   "id": "6ae4876b",
   "metadata": {},
   "source": [
    "### Cache results"
   ]
  },
  {
   "cell_type": "code",
   "execution_count": null,
   "id": "e42cd2b6",
   "metadata": {},
   "outputs": [],
   "source": [
    "interesting_repos = [file.repository for file in repos1 + repos2]"
   ]
  },
  {
   "cell_type": "code",
   "execution_count": null,
   "id": "3f074906",
   "metadata": {},
   "outputs": [],
   "source": [
    "scraper.store_repos(interesting_repos)"
   ]
  },
  {
   "cell_type": "code",
   "execution_count": 4,
   "id": "f1761d38",
   "metadata": {},
   "outputs": [],
   "source": [
    "loaded_repos = scraper.load_repos()"
   ]
  },
  {
   "cell_type": "code",
   "execution_count": 5,
   "id": "17b5bd30",
   "metadata": {},
   "outputs": [
    {
     "data": {
      "text/plain": [
       "[Repository(full_name=\"DFE-Digital/login.dfe.examples.oidc-client\"),\n",
       " Repository(full_name=\"philiplinell/oidc-client\"),\n",
       " Repository(full_name=\"the-watchmen/node-oidc-proxy\"),\n",
       " Repository(full_name=\"zapnito/oidc-client-js\"),\n",
       " Repository(full_name=\"linz/oidc-client-js\"),\n",
       " Repository(full_name=\"fmoraw/oicdjs\"),\n",
       " Repository(full_name=\"IdentityModel/oidc-client-js\"),\n",
       " Repository(full_name=\"moomoo-ya/oidc-client-sample\"),\n",
       " Repository(full_name=\"smartworld-dm/oidc-client\"),\n",
       " Repository(full_name=\"sknoslo/cypress-oidc-client\"),\n",
       " Repository(full_name=\"Orthodox-Union/js-utils\"),\n",
       " Repository(full_name=\"ComputerScienceHouse/Vote\"),\n",
       " Repository(full_name=\"LykkeCorp/lykke.com\"),\n",
       " Repository(full_name=\"medaminehamidi/portfolio\"),\n",
       " Repository(full_name=\"onigra/vue-fes-japan-reject-con-demo\"),\n",
       " Repository(full_name=\"nikolai-git-house/Reed-NextJs-frontend\"),\n",
       " Repository(full_name=\"IAmAnubhavSaini/IdentityModel_oidc-client-js\"),\n",
       " Repository(full_name=\"IAmAnubhavSaini/IdentityModel_oidc-client-js\"),\n",
       " Repository(full_name=\"Sabrinalulu/NotesMan\"),\n",
       " Repository(full_name=\"maxmantz/redux-oidc-example\"),\n",
       " Repository(full_name=\"cburkins/poc-oidc-bare-javascript-boostrap3\"),\n",
       " Repository(full_name=\"DaIgeb/points\"),\n",
       " Repository(full_name=\"jxjjligang/node-React-Renter\"),\n",
       " Repository(full_name=\"jdority/headless-b2b-commerce\"),\n",
       " Repository(full_name=\"aymanokas/scoopstudio\"),\n",
       " Repository(full_name=\"nguyenlephong/jwt-api-build-router\"),\n",
       " Repository(full_name=\"arpit-simpos/agora\"),\n",
       " Repository(full_name=\"patdx/device-code-login-test\"),\n",
       " Repository(full_name=\"novelar/pidy-app\"),\n",
       " Repository(full_name=\"abgov/nx-tools-example\"),\n",
       " Repository(full_name=\"abgov/nx-tools-example\"),\n",
       " Repository(full_name=\"project-belligerence/Belligerence\"),\n",
       " Repository(full_name=\"defiantgoat/woowoofund-app\"),\n",
       " Repository(full_name=\"sivamaarutinc/Angular1006\"),\n",
       " Repository(full_name=\"nhsconnect/prm-deductions-portal-gp-practice\"),\n",
       " Repository(full_name=\"pthpv95/vue-realtime-chat-app\"),\n",
       " Repository(full_name=\"serverwentdown/chronos\"),\n",
       " Repository(full_name=\"spurreiter/oidc-connector\"),\n",
       " Repository(full_name=\"wangjunkai/hex\"),\n",
       " Repository(full_name=\"ensembleVideo/ev-script\"),\n",
       " Repository(full_name=\"KevalSikligar/workwyse\"),\n",
       " Repository(full_name=\"Kaustix/Pomodoro\"),\n",
       " Repository(full_name=\"medaminehamidi/scoop\"),\n",
       " Repository(full_name=\"N2AM/bawbty\"),\n",
       " Repository(full_name=\"dedreira/vue-base-project\"),\n",
       " Repository(full_name=\"asadsahi/ngnode-fullstack\"),\n",
       " Repository(full_name=\"City-of-Helsinki/helerm-ui\"),\n",
       " Repository(full_name=\"coralproject/cay\"),\n",
       " Repository(full_name=\"zelixag/hex-nuxt\"),\n",
       " Repository(full_name=\"olivermirimu/Netflux-mini-netflix-web-app-ALC\"),\n",
       " Repository(full_name=\"PointOnePercent/PointOnePercent\"),\n",
       " Repository(full_name=\"AnirudhSingal/FinApp_Public\"),\n",
       " Repository(full_name=\"dalorna/vueAA\"),\n",
       " Repository(full_name=\"Jacknes/9dashboard\"),\n",
       " Repository(full_name=\"lmngtechteam/ElectronApp\"),\n",
       " Repository(full_name=\"Bnei-Baruch/gxy-worldkli\"),\n",
       " Repository(full_name=\"hcorazao/3d-conversion-software\"),\n",
       " Repository(full_name=\"dennismensah/AliasBankingWeb\"),\n",
       " Repository(full_name=\"UN-OCHA/hpc-cdm\"),\n",
       " Repository(full_name=\"gobberr/SDG-portal\"),\n",
       " Repository(full_name=\"ch-luan2015/CL-CV\"),\n",
       " Repository(full_name=\"ng-druid/platform\"),\n",
       " Repository(full_name=\"City-of-Helsinki/linked-volunteering-ui\"),\n",
       " Repository(full_name=\"TheFeedBackNetwork/TFN.Frontend\"),\n",
       " Repository(full_name=\"abgov/org-capacity-prototype\"),\n",
       " Repository(full_name=\"stevensam0109/legal-disco-next-nest\"),\n",
       " Repository(full_name=\"jkaveri/react-redux-starter\"),\n",
       " Repository(full_name=\"asadsahi/reactnode-fullstack\"),\n",
       " Repository(full_name=\"sijeong/avatar\"),\n",
       " Repository(full_name=\"Thyrse/Red_Tetris\"),\n",
       " Repository(full_name=\"guillaume-chervet/react-toolkit-old-demo\"),\n",
       " Repository(full_name=\"CrankHeart/trade-admin-webpack4\"),\n",
       " Repository(full_name=\"GeoscienceAustralia/GNSS-Site-Manager\"),\n",
       " Repository(full_name=\"suneta/PriceAlertLocal\"),\n",
       " Repository(full_name=\"BlueBrain/nexus-web\"),\n",
       " Repository(full_name=\"linz/GNSS-Site-Manager\"),\n",
       " Repository(full_name=\"City-of-Helsinki/kerrokantasi-ui\"),\n",
       " Repository(full_name=\"zengenti/contensis-react-base\"),\n",
       " Repository(full_name=\"MingyiLiang/Soochowco\"),\n",
       " Repository(full_name=\"vijayasankar/ML2.0\"),\n",
       " Repository(full_name=\"e1-bsd/omni-common-ui\"),\n",
       " Repository(full_name=\"giantswarm/happa\"),\n",
       " Repository(full_name=\"Onest-io/ONS-UI\"),\n",
       " Repository(full_name=\"nbs-dex/nbs-ui\"),\n",
       " Repository(full_name=\"lcklcntesasjksgd/rudex-ui\"),\n",
       " Repository(full_name=\"lcklcntesasjksgd/loc-ui\"),\n",
       " Repository(full_name=\"chadbernal/BLINCDEX\"),\n",
       " Repository(full_name=\"KosmosOgKaos/island-is-fork\"),\n",
       " Repository(full_name=\"bitshares/bitshares-ui\"),\n",
       " Repository(full_name=\"makermadecnc/makerverse\"),\n",
       " Repository(full_name=\"island-is/island.is\"),\n",
       " Repository(full_name=\"madaster97/node-bulk-fhir\"),\n",
       " Repository(full_name=\"Pieter2406/lti-demo-playground\"),\n",
       " Repository(full_name=\"vid/rp-simulator\"),\n",
       " Repository(full_name=\"gewv-tu-dresden/template-react-openid\"),\n",
       " Repository(full_name=\"klogz/test2\"),\n",
       " Repository(full_name=\"alextanhongpin/openid-client\"),\n",
       " Repository(full_name=\"Project-2-Cloud/team-cinq-authentication\"),\n",
       " Repository(full_name=\"assfalt/oauth-bound-access-demo\"),\n",
       " Repository(full_name=\"navsinha5/nodejs-express-mongo\"),\n",
       " Repository(full_name=\"arthurk33/bloom\"),\n",
       " Repository(full_name=\"bruhsoundeffect-2/Frontend\"),\n",
       " Repository(full_name=\"speakupnl/staart\"),\n",
       " Repository(full_name=\"center-aisle/middle-ground\"),\n",
       " Repository(full_name=\"akashirani110/payroll-integration-app\"),\n",
       " Repository(full_name=\"Belvue/CodMods\"),\n",
       " Repository(full_name=\"Project-2-Cloud/team20_vue_authentication\"),\n",
       " Repository(full_name=\"ksaito-hiu/research-ground\"),\n",
       " Repository(full_name=\"swalther-indeed/sourcing-quickstart-nodejs\"),\n",
       " Repository(full_name=\"EutechCybernetic/node-openid-sample\"),\n",
       " Repository(full_name=\"idaptive/nodejs-oidc-webapp\"),\n",
       " Repository(full_name=\"calimero921/IOTDBAPI\"),\n",
       " Repository(full_name=\"TypingKoala/ZBudgeT\"),\n",
       " Repository(full_name=\"XeroAPI/xero-node-oauth2-ts-starter\"),\n",
       " Repository(full_name=\"IISH/repo-iaa\"),\n",
       " Repository(full_name=\"yvesdebeer/authentication-nodejs\"),\n",
       " Repository(full_name=\"dotkom/smashbackend\"),\n",
       " Repository(full_name=\"constantine2nd/openid-connect-google-node\"),\n",
       " Repository(full_name=\"ILLGrenoble/visa-accounts\"),\n",
       " Repository(full_name=\"Abdul-Afeez/finastra\"),\n",
       " Repository(full_name=\"emonkey/xero-integration-demo\"),\n",
       " Repository(full_name=\"dotkom/smashbackend\"),\n",
       " Repository(full_name=\"emonkey/xero-integration-demo\"),\n",
       " Repository(full_name=\"constantine2nd/openid-connect-google-node\"),\n",
       " Repository(full_name=\"FDMediagroep/bnr-branded\"),\n",
       " Repository(full_name=\"gary-archer/oauth.apisample.nodejs\"),\n",
       " Repository(full_name=\"ForgeCloud/app-sdk\"),\n",
       " Repository(full_name=\"france-connect/service-provider-example\"),\n",
       " Repository(full_name=\"Project-2-Cloud/hybrid-cloud-team-cinq\"),\n",
       " Repository(full_name=\"XeroAPI/node-oauth2-example\"),\n",
       " Repository(full_name=\"indeedeng/sponsored-jobs-nodejs-auth-code\"),\n",
       " Repository(full_name=\"Project-2-Cloud/Cactus2_node\"),\n",
       " Repository(full_name=\"IBM/mlapp-cp-api\"),\n",
       " Repository(full_name=\"erdii/node-oidc-dummy\"),\n",
       " Repository(full_name=\"medius-group/mediusflow-nodejs-bolierplate\"),\n",
       " Repository(full_name=\"Wout-Vanherf/authentication-nodejs-master\"),\n",
       " Repository(full_name=\"mcguinness/oidc-rp\"),\n",
       " Repository(full_name=\"Osvaldotr07/terminal-broker-web\"),\n",
       " Repository(full_name=\"lekoOwO/RepliDA-OpenID\"),\n",
       " Repository(full_name=\"LOKE/auth-kit\"),\n",
       " Repository(full_name=\"sunshiva-pge/pingone-oidc-webapp\"),\n",
       " Repository(full_name=\"nona-luypaert/auth-service\"),\n",
       " Repository(full_name=\"XeroAPI/xero-node-custom-connections-starter\"),\n",
       " Repository(full_name=\"Project-2-Cloud/Team-19_nodejs_auth\"),\n",
       " Repository(full_name=\"peblproject/PeBL-Services\"),\n",
       " Repository(full_name=\"juanca84/ciudadania-digital-cliente\"),\n",
       " Repository(full_name=\"ETDA/openid-rp-nodejs\"),\n",
       " Repository(full_name=\"AronMeeus/authentication-nodejs\"),\n",
       " Repository(full_name=\"Maruf-Rahman/businessdomaintest\"),\n",
       " Repository(full_name=\"claabs/speedrun-vote\"),\n",
       " Repository(full_name=\"a-maggi/node_openid\"),\n",
       " Repository(full_name=\"blue-store/authentication-nodejs\"),\n",
       " Repository(full_name=\"peblproject/PeBL-Services\"),\n",
       " Repository(full_name=\"RedVinck/ProjectWeekNodeJs\"),\n",
       " Repository(full_name=\"Uninett/dataporten-nodejs-demo1\"),\n",
       " Repository(full_name=\"Zillionnn/dota2u\"),\n",
       " Repository(full_name=\"unik-name/platform10x.net\"),\n",
       " Repository(full_name=\"Devidian/node-template-openidws\"),\n",
       " Repository(full_name=\"shenoy/xeronodejs\"),\n",
       " Repository(full_name=\"Project-2-Cloud/hybrid-cloud-numberone-auth\"),\n",
       " Repository(full_name=\"navikt/altinn-meldinger-web\"),\n",
       " Repository(full_name=\"ETDA/openid-rp-nodejs\"),\n",
       " Repository(full_name=\"Avinashkumar8694/nodejs_text_readability\"),\n",
       " Repository(full_name=\"bitsmuggler/bexio-authorization-code-flow-example\"),\n",
       " Repository(full_name=\"apim-haufe-io/wicked.auth\"),\n",
       " Repository(full_name=\"SankalpaFernando/dev-starter\"),\n",
       " Repository(full_name=\"leathersole/3scale-client-proto\"),\n",
       " Repository(full_name=\"franleplant/sso-with-openid\"),\n",
       " Repository(full_name=\"woshik/mediaSoup-server\"),\n",
       " Repository(full_name=\"Bjornvdb/pythoneers-backend-auth\"),\n",
       " Repository(full_name=\"18F/data-fixer\"),\n",
       " Repository(full_name=\"dangkhoa571997/login-with-openid\"),\n",
       " Repository(full_name=\"InterNutter/instants\"),\n",
       " Repository(full_name=\"Prabhdeep24/hubst\"),\n",
       " Repository(full_name=\"navikt/poao-auth-proxy\"),\n",
       " Repository(full_name=\"XenitAB/xdc-idp-client-example\"),\n",
       " Repository(full_name=\"RedVinck/NodeJS\"),\n",
       " Repository(full_name=\"kehm/artsapp-builder-api\"),\n",
       " Repository(full_name=\"deep75/fcdemo3\"),\n",
       " Repository(full_name=\"Etyvaldir607/prueba_mef_backend\"),\n",
       " Repository(full_name=\"Sophanorin/ruppc\"),\n",
       " Repository(full_name=\"saschazar21/openidconnect-client\"),\n",
       " Repository(full_name=\"vinayDalt/Nodejs_frontend\"),\n",
       " Repository(full_name=\"alvinlin88/autochessbot\"),\n",
       " Repository(full_name=\"Electrofenster/jwt-verifier\"),\n",
       " Repository(full_name=\"d4jtk18p3/proyek3-backend\"),\n",
       " Repository(full_name=\"malaybhayani/payments\"),\n",
       " Repository(full_name=\"madulapa/mock-medium\"),\n",
       " Repository(full_name=\"woshik/webRTC-server\"),\n",
       " Repository(full_name=\"criipto/verify-with-nodejs\"),\n",
       " Repository(full_name=\"kassemnaser/l24_master_data-Akeneo-middleware\"),\n",
       " Repository(full_name=\"jeppevinkel/discord-umbrella-bot\"),\n",
       " Repository(full_name=\"DFE-Digital/login.dfe.portal\"),\n",
       " Repository(full_name=\"TypingKoala/Technique-Yearbook-Student-Portal\"),\n",
       " Repository(full_name=\"PlusAuth/plusauth-node-financial-example\"),\n",
       " Repository(full_name=\"navikt/pam-login\"),\n",
       " Repository(full_name=\"Project-2-Cloud/Team12_NodeJS_Authentication\"),\n",
       " Repository(full_name=\"maxg/omnivore\"),\n",
       " Repository(full_name=\"RagOfJoes/nupic-gql\"),\n",
       " Repository(full_name=\"fixingthenet/fxnet-fs-nodejs\"),\n",
       " Repository(full_name=\"ZxMapleLiu/csgo-stat-server\"),\n",
       " Repository(full_name=\"Chillrend/sso_demo_node_express\"),\n",
       " Repository(full_name=\"RalphSleigh/nodewowlog\"),\n",
       " Repository(full_name=\"rwth-acis/awgs-graphql\"),\n",
       " Repository(full_name=\"bloomberg/coffeechat\"),\n",
       " Repository(full_name=\"xblockchainlabs/node-authx\"),\n",
       " Repository(full_name=\"passport/express-4.x-openid-client-example\"),\n",
       " Repository(full_name=\"perforce/helix-authentication-service\"),\n",
       " Repository(full_name=\"deko2369/nuxt-oidc\"),\n",
       " Repository(full_name=\"grvrjt/keycloak-UM\"),\n",
       " Repository(full_name=\"yescom/yes-nodejs-backend\"),\n",
       " Repository(full_name=\"RagOfJoes/spoonfed-gql\"),\n",
       " Repository(full_name=\"NetsoftHoldings/public-api-nodejs-demo\"),\n",
       " Repository(full_name=\"enode-engineering/enode-sample-client\"),\n",
       " Repository(full_name=\"angelnogueras/bindid_okta_integration\"),\n",
       " Repository(full_name=\"YankoBuyens/Project2-shoppingCart-authentication\"),\n",
       " Repository(full_name=\"christianhugoch/oauth-policies\"),\n",
       " Repository(full_name=\"NitikaGoel/MoneyhubPOC\"),\n",
       " Repository(full_name=\"nbgspl-github/Videoconf\"),\n",
       " Repository(full_name=\"DoSomething/gambit-admin\"),\n",
       " Repository(full_name=\"DrRaider/openid-connect-sample\"),\n",
       " Repository(full_name=\"zaruda/test-application\"),\n",
       " Repository(full_name=\"ministryofjustice/analytics-platform-control-panel-frontend\"),\n",
       " Repository(full_name=\"claabs/youtube-clip-discord\"),\n",
       " Repository(full_name=\"adhocteam/va-mobile-sampleweb\"),\n",
       " Repository(full_name=\"lixpng/node-oidc-sp-demo\"),\n",
       " Repository(full_name=\"jogeshparida/NodeJSSampleApp\"),\n",
       " Repository(full_name=\"dotkom/gallery\"),\n",
       " Repository(full_name=\"jpf/okta-ssr-beta\"),\n",
       " Repository(full_name=\"plotdb/maketext\"),\n",
       " Repository(full_name=\"IISH/workflow-controller\"),\n",
       " Repository(full_name=\"adamuchi/login-with-demo\"),\n",
       " Repository(full_name=\"XeroAPI/xero-node-oauth2-app\"),\n",
       " Repository(full_name=\"ksaito-hiu/idsrv\"),\n",
       " Repository(full_name=\"rrrrvvvv/Hockey-Monster\"),\n",
       " Repository(full_name=\"loic-roux-404/node-template\"),\n",
       " Repository(full_name=\"igorovic/poc-oidc-provider\"),\n",
       " Repository(full_name=\"zbryikt/webedit\"),\n",
       " Repository(full_name=\"rwth-acis/Immersive-presentation---Backend-Coordinator\"),\n",
       " Repository(full_name=\"esubocz-va/token-bot\"),\n",
       " Repository(full_name=\"rikitikitaco/nhs-login-nodejs-example\"),\n",
       " Repository(full_name=\"esubocz-va/token-bot\"),\n",
       " Repository(full_name=\"rikitikitaco/nhs-login-nodejs-example\"),\n",
       " Repository(full_name=\"andhika276/WBSapp-backend\"),\n",
       " Repository(full_name=\"plotdb/maketext\"),\n",
       " Repository(full_name=\"vladislavk3/mon-neispuo_app1-backend\"),\n",
       " Repository(full_name=\"indeedeng/resume-sourcing-nodejs-client-credentials\"),\n",
       " Repository(full_name=\"richtea/oidc-cognito\"),\n",
       " Repository(full_name=\"ExploreSmartKnowledge/abcd\"),\n",
       " Repository(full_name=\"calebb09/payxmi_nodejs\"),\n",
       " Repository(full_name=\"Swymby/nx-auth-test\"),\n",
       " Repository(full_name=\"aminmarashi/hubstaff-invoice\"),\n",
       " Repository(full_name=\"Raunak-S/trader-react\"),\n",
       " Repository(full_name=\"iad-os/nightswatch\"),\n",
       " Repository(full_name=\"MatthewYokopovich/SteamBuddy\"),\n",
       " Repository(full_name=\"moghthalkushal/osdu\"),\n",
       " Repository(full_name=\"Zankel-Engineering/nest-typescript-keycloak-jwt-consumer\"),\n",
       " Repository(full_name=\"fanjinfei/fess-docker-compose\"),\n",
       " Repository(full_name=\"ArneArtois/team22_enter\"),\n",
       " Repository(full_name=\"Banno/consumer-api-openid-connect-example\"),\n",
       " Repository(full_name=\"DFE-Digital/bat-node-prototype\"),\n",
       " Repository(full_name=\"EmperorRXF/auth-service-demo\"),\n",
       " Repository(full_name=\"MichaelOryan/gf-xero\"),\n",
       " Repository(full_name=\"NipuniMuthucumarana/nextjs-app\"),\n",
       " Repository(full_name=\"noymer/growi\"),\n",
       " Repository(full_name=\"evan361425/playground-oauth2-client\"),\n",
       " Repository(full_name=\"navikt/oidc-auth-proxy\"),\n",
       " Repository(full_name=\"mr-kyle/oidc-middleware-monash\"),\n",
       " Repository(full_name=\"deeplay-io/verdaccio-openid-connect\"),\n",
       " Repository(full_name=\"nhs-digital-gp-it-futures/buying-catalogue-library\"),\n",
       " Repository(full_name=\"FIWARE-TMForum/business-ecosystem-logic-proxy\"),\n",
       " Repository(full_name=\"18F/identity-oidc-expressjs\"),\n",
       " Repository(full_name=\"laryssa25/backend_nestjs-openid-jest\"),\n",
       " Repository(full_name=\"telenorbusiness/SmartAnsatt_Boilerplate_NodeJS\"),\n",
       " Repository(full_name=\"DFE-Digital/login.dfe.examples.oidc-client\"),\n",
       " Repository(full_name=\"DrDeee/deliconnect\"),\n",
       " Repository(full_name=\"auth0/express-oauth2-bearer\"),\n",
       " Repository(full_name=\"spootechnologies/spoo\"),\n",
       " Repository(full_name=\"magda-io/magda-auth-oidc\"),\n",
       " Repository(full_name=\"haattis/rankingsystem\"),\n",
       " Repository(full_name=\"cvanderkolk/ralphie-twitch-bot\"),\n",
       " Repository(full_name=\"luu-alex/imageRepo\"),\n",
       " Repository(full_name=\"KTH/kpm\"),\n",
       " Repository(full_name=\"iot-resister/bch-test\"),\n",
       " Repository(full_name=\"splintbot/shipbot-app\"),\n",
       " Repository(full_name=\"XeroAPI/xero-node-sso-app\"),\n",
       " Repository(full_name=\"InventivetalentDev/TrashAppOsmBridge\"),\n",
       " Repository(full_name=\"indeedeng/resume-sourcing-nodejs-auth-code\"),\n",
       " Repository(full_name=\"mikamai/nestjs-keycloak-admin-provider\"),\n",
       " Repository(full_name=\"agileramblings/nest-auth\"),\n",
       " Repository(full_name=\"tronjsdev/nextjs-template\"),\n",
       " Repository(full_name=\"hirotake111/oidc-provider-typescript\"),\n",
       " Repository(full_name=\"patdx/device-code-login-test\"),\n",
       " Repository(full_name=\"tyaps/hydra\"),\n",
       " Repository(full_name=\"yatsu/a8r-oidc-auth-service\"),\n",
       " Repository(full_name=\"windwithlife/SimpleNodeWeb\"),\n",
       " Repository(full_name=\"lekkimworld/salesforce-consent-demo-herokuapp\"),\n",
       " Repository(full_name=\"DoSomething/bertly\"),\n",
       " Repository(full_name=\"kg0r0/google-pkce-client\"),\n",
       " Repository(full_name=\"remade/typescript-boilerplate\"),\n",
       " Repository(full_name=\"sandybemonkey/fs_mock_v2\"),\n",
       " Repository(full_name=\"moneyhub/moneyhub-api-client\"),\n",
       " Repository(full_name=\"apim-haufe-io/wicked.env\"),\n",
       " Repository(full_name=\"KTH/kth-node-passport-oidc\"),\n",
       " Repository(full_name=\"FarhatMaher/wevioo\"),\n",
       " Repository(full_name=\"s1260150/keycloak-node-ropc-flow\"),\n",
       " Repository(full_name=\"department-of-veterans-affairs/lighthouse-oauth-proxy\"),\n",
       " Repository(full_name=\"omarmus/base-backend-agetic\"),\n",
       " Repository(full_name=\"BorntraegerMarc/nest-angular\"),\n",
       " Repository(full_name=\"zbryikt/bindola\"),\n",
       " Repository(full_name=\"auth0/express-openid-connect\"),\n",
       " Repository(full_name=\"uid/gitstream\"),\n",
       " Repository(full_name=\"3529ruew9fu/test-oauth\"),\n",
       " Repository(full_name=\"Shubham2602/Expense-Manager\"),\n",
       " Repository(full_name=\"Ritevi/RobotApp\"),\n",
       " Repository(full_name=\"betagouv/api-particulier-demo\"),\n",
       " Repository(full_name=\"JordyVanEsbroeck/BruhSound2-Frontend\"),\n",
       " Repository(full_name=\"Orange-OpenSource/oauth2-token-manager-for-nodeJS\"),\n",
       " Repository(full_name=\"betagouv/api-particulier-portail\"),\n",
       " Repository(full_name=\"dangduoc08/nest-react-typescript\"),\n",
       " Repository(full_name=\"vlad-cirstean/instapcd\"),\n",
       " Repository(full_name=\"SerKnight/xero-sdk-dashboard\"),\n",
       " Repository(full_name=\"sjmiller609/houston-api\"),\n",
       " Repository(full_name=\"kirtiBhosale/repo1oct\"),\n",
       " Repository(full_name=\"spurreiter/oidc-node-stateless\"),\n",
       " Repository(full_name=\"divyamoncy/Communiti\"),\n",
       " Repository(full_name=\"DFE-Digital/login.dfe.manage\"),\n",
       " Repository(full_name=\"jaxoncreed/node-oidc-provider-6-custom\"),\n",
       " Repository(full_name=\"madarche/oidc-rp-web-example\"),\n",
       " Repository(full_name=\"amel-true/nest-openid-client-passport\"),\n",
       " Repository(full_name=\"brikteknologier/chhaang\"),\n",
       " Repository(full_name=\"Mikhel-lab/HackToFuture\"),\n",
       " Repository(full_name=\"nais/frontend-dings\"),\n",
       " Repository(full_name=\"amel-true/nest-openid-client-passport\"),\n",
       " Repository(full_name=\"CHOQUETITO/etc-proyectos-backend\"),\n",
       " Repository(full_name=\"DFE-Digital/login.dfe.profile\"),\n",
       " Repository(full_name=\"lekkimworld/SensorCentral\"),\n",
       " Repository(full_name=\"layerssss/michaelhost\"),\n",
       " Repository(full_name=\"danielefiungo/letmein\"),\n",
       " Repository(full_name=\"juliusmasigan/PushService\"),\n",
       " Repository(full_name=\"josephShih/base-api\"),\n",
       " Repository(full_name=\"panva/node-oidc-provider\"),\n",
       " Repository(full_name=\"lotreal/node-oidc-provider\"),\n",
       " Repository(full_name=\"tonioh84/backend-neispuo\"),\n",
       " Repository(full_name=\"madarche/oidc-rp-native-example\"),\n",
       " Repository(full_name=\"gruposantander/oidc-provider\"),\n",
       " Repository(full_name=\"azran4u/war\"),\n",
       " Repository(full_name=\"tui2tone/rush-authen\"),\n",
       " Repository(full_name=\"ForestAdmin/forest-express\"),\n",
       " Repository(full_name=\"the-watchmen/node-oidc-proxy\"),\n",
       " Repository(full_name=\"kumaF/express-es6-keycloak-boilerplate\"),\n",
       " Repository(full_name=\"magda-io/magda-auth-okta\"),\n",
       " Repository(full_name=\"betagouv/api-particulier\"),\n",
       " Repository(full_name=\"philiplinell/oidc-client\"),\n",
       " Repository(full_name=\"jainmanoj/UniversalIdentityProvider\"),\n",
       " Repository(full_name=\"DFE-Digital/login.dfe.help\"),\n",
       " Repository(full_name=\"dotkom/super-duper-fiesta\"),\n",
       " Repository(full_name=\"zhangjindong/cofco-protal-oa\"),\n",
       " Repository(full_name=\"hmcts/rpx-xui-node-lib\"),\n",
       " Repository(full_name=\"Zankel-Engineering/nest-typescript-keycloak-jwt\"),\n",
       " Repository(full_name=\"dehypnosis/moleculer-api\"),\n",
       " Repository(full_name=\"TamuGeoInnovation/Tamu.GeoInnovation.js.monorepo\"),\n",
       " Repository(full_name=\"anonrig/nestjs-keycloak-admin\"),\n",
       " Repository(full_name=\"navikt/finnfastlege\"),\n",
       " Repository(full_name=\"Sensotrend/nightscout-fi\"),\n",
       " Repository(full_name=\"stevensam0109/legal-disco-next-nest\"),\n",
       " Repository(full_name=\"navikt/syfomoteoversikt\"),\n",
       " Repository(full_name=\"navikt/hm-formidler\"),\n",
       " Repository(full_name=\"piosystems/sgvi-1-mini-cms\"),\n",
       " Repository(full_name=\"JaneJeon/blink\"),\n",
       " Repository(full_name=\"bcgov/digital_marketplace\"),\n",
       " Repository(full_name=\"navikt/syfomodiaperson\"),\n",
       " Repository(full_name=\"clonardo/reddot-mono\"),\n",
       " Repository(full_name=\"clonardo/renco-hax-mono\"),\n",
       " Repository(full_name=\"linagora/openpaas-esn\"),\n",
       " Repository(full_name=\"navikt/dp-dagpenger\"),\n",
       " Repository(full_name=\"sutherlanda/digital_marketplace\"),\n",
       " Repository(full_name=\"ExtensionEngine/tailor\"),\n",
       " Repository(full_name=\"navikt/helseopplysninger-frontend\"),\n",
       " Repository(full_name=\"frmtbl/FRMTBL-DEMO\"),\n",
       " Repository(full_name=\"imgod123456/solid-fortnight\"),\n",
       " Repository(full_name=\"hmcts/rpx-xui-approve-org\"),\n",
       " Repository(full_name=\"stelace/stelace\"),\n",
       " Repository(full_name=\"yahoojapan/k2hr3_app\"),\n",
       " Repository(full_name=\"navikt/helse-speil\"),\n",
       " Repository(full_name=\"navikt/syfooversikt\"),\n",
       " Repository(full_name=\"ClarkSource/verdaccio-oidc\"),\n",
       " Repository(full_name=\"kamgueblondin/map\"),\n",
       " Repository(full_name=\"alphagov/paas-admin\"),\n",
       " Repository(full_name=\"trevorlinton/universal-login-test\"),\n",
       " Repository(full_name=\"HSLdevcom/digitransit-ui\"),\n",
       " Repository(full_name=\"kamgueblondin/mapp\"),\n",
       " Repository(full_name=\"auth0-training/labs-vscode-extension\")]"
      ]
     },
     "execution_count": 5,
     "metadata": {},
     "output_type": "execute_result"
    }
   ],
   "source": [
    "loaded_repos"
   ]
  },
  {
   "cell_type": "markdown",
   "id": "62cb0fba",
   "metadata": {},
   "source": [
    "### Fetch authentication files from repositories"
   ]
  },
  {
   "cell_type": "code",
   "execution_count": null,
   "id": "0b195c36",
   "metadata": {},
   "outputs": [],
   "source": [
    "# repos_to_auth_files = {repo.repository: scraper.find_auth_files(repo.repository) for repo in repos1}"
   ]
  },
  {
   "cell_type": "code",
   "execution_count": null,
   "id": "a94f8fce",
   "metadata": {},
   "outputs": [],
   "source": [
    "# repos_to_auth_files2 = {repo.repository: scraper.find_auth_files(repo.repository) for repo in repos2}"
   ]
  },
  {
   "cell_type": "code",
   "execution_count": null,
   "id": "e4a3db5c",
   "metadata": {},
   "outputs": [],
   "source": [
    "repos_to_auth_files = {repo: scraper.find_auth_files(repo) for repo in loaded_repos}"
   ]
  },
  {
   "cell_type": "code",
   "execution_count": null,
   "id": "373f6571",
   "metadata": {},
   "outputs": [],
   "source": [
    "scraper.store_mappings(repos_to_auth_files)"
   ]
  },
  {
   "cell_type": "code",
   "execution_count": 6,
   "id": "e8984e8c",
   "metadata": {},
   "outputs": [],
   "source": [
    "loaded_mappings = scraper.load_mappings()"
   ]
  },
  {
   "cell_type": "code",
   "execution_count": null,
   "id": "f7d67a10",
   "metadata": {},
   "outputs": [],
   "source": [
    "# filtered_repos = dict(filter(lambda elem: elem[1] != None and len(elem[1]) > 0, list(repos_to_auth_files.items())))\n",
    "# len(filtered_repos)"
   ]
  },
  {
   "cell_type": "code",
   "execution_count": 7,
   "id": "78785c8b",
   "metadata": {},
   "outputs": [
    {
     "data": {
      "text/plain": [
       "71"
      ]
     },
     "execution_count": 7,
     "metadata": {},
     "output_type": "execute_result"
    }
   ],
   "source": [
    "filtered_repos = dict(filter(lambda elem: elem[1] != None and len(elem[1]) > 0, list(loaded_mappings.items())))\n",
    "len(filtered_repos)"
   ]
  },
  {
   "cell_type": "code",
   "execution_count": 8,
   "id": "00efb294",
   "metadata": {},
   "outputs": [],
   "source": [
    "flat_data = scraper.repo_auth_file_mapping_to_flat(filtered_repos)"
   ]
  },
  {
   "cell_type": "code",
   "execution_count": 9,
   "id": "2ba1e63b",
   "metadata": {},
   "outputs": [],
   "source": [
    "df = pd.DataFrame.from_records(flat_data, columns=[\"repo\", \"file\", \"loc\"])"
   ]
  },
  {
   "cell_type": "code",
   "execution_count": 12,
   "id": "37597839",
   "metadata": {},
   "outputs": [
    {
     "data": {
      "text/html": [
       "<div>\n",
       "<style scoped>\n",
       "    .dataframe tbody tr th:only-of-type {\n",
       "        vertical-align: middle;\n",
       "    }\n",
       "\n",
       "    .dataframe tbody tr th {\n",
       "        vertical-align: top;\n",
       "    }\n",
       "\n",
       "    .dataframe thead th {\n",
       "        text-align: right;\n",
       "    }\n",
       "</style>\n",
       "<table border=\"1\" class=\"dataframe\">\n",
       "  <thead>\n",
       "    <tr style=\"text-align: right;\">\n",
       "      <th></th>\n",
       "      <th>loc</th>\n",
       "    </tr>\n",
       "  </thead>\n",
       "  <tbody>\n",
       "    <tr>\n",
       "      <th>count</th>\n",
       "      <td>173.000000</td>\n",
       "    </tr>\n",
       "    <tr>\n",
       "      <th>mean</th>\n",
       "      <td>99.277457</td>\n",
       "    </tr>\n",
       "    <tr>\n",
       "      <th>std</th>\n",
       "      <td>221.948725</td>\n",
       "    </tr>\n",
       "    <tr>\n",
       "      <th>min</th>\n",
       "      <td>2.000000</td>\n",
       "    </tr>\n",
       "    <tr>\n",
       "      <th>25%</th>\n",
       "      <td>19.000000</td>\n",
       "    </tr>\n",
       "    <tr>\n",
       "      <th>50%</th>\n",
       "      <td>35.000000</td>\n",
       "    </tr>\n",
       "    <tr>\n",
       "      <th>75%</th>\n",
       "      <td>90.000000</td>\n",
       "    </tr>\n",
       "    <tr>\n",
       "      <th>max</th>\n",
       "      <td>1744.000000</td>\n",
       "    </tr>\n",
       "  </tbody>\n",
       "</table>\n",
       "</div>"
      ],
      "text/plain": [
       "               loc\n",
       "count   173.000000\n",
       "mean     99.277457\n",
       "std     221.948725\n",
       "min       2.000000\n",
       "25%      19.000000\n",
       "50%      35.000000\n",
       "75%      90.000000\n",
       "max    1744.000000"
      ]
     },
     "execution_count": 12,
     "metadata": {},
     "output_type": "execute_result"
    }
   ],
   "source": [
    "df.describe()"
   ]
  },
  {
   "cell_type": "code",
   "execution_count": 21,
   "id": "0ec8d744",
   "metadata": {},
   "outputs": [
    {
     "data": {
      "text/plain": [
       "<AxesSubplot:>"
      ]
     },
     "execution_count": 21,
     "metadata": {},
     "output_type": "execute_result"
    },
    {
     "data": {
      "image/png": "[encoded data removed]",
      "text/plain": [
       "<Figure size 432x288 with 1 Axes>"
      ]
     },
     "metadata": {
      "needs_background": "light"
     },
     "output_type": "display_data"
    }
   ],
   "source": [
    "df.describe().drop('max', axis=0).plot(kind=\"bar\")"
   ]
  },
  {
   "cell_type": "code",
   "execution_count": 24,
   "id": "54c8f84f",
   "metadata": {},
   "outputs": [
    {
     "data": {
      "text/html": [
       "<div>\n",
       "<style scoped>\n",
       "    .dataframe tbody tr th:only-of-type {\n",
       "        vertical-align: middle;\n",
       "    }\n",
       "\n",
       "    .dataframe tbody tr th {\n",
       "        vertical-align: top;\n",
       "    }\n",
       "\n",
       "    .dataframe thead th {\n",
       "        text-align: right;\n",
       "    }\n",
       "</style>\n",
       "<table border=\"1\" class=\"dataframe\">\n",
       "  <thead>\n",
       "    <tr style=\"text-align: right;\">\n",
       "      <th></th>\n",
       "      <th>repo</th>\n",
       "      <th>file</th>\n",
       "      <th>loc</th>\n",
       "    </tr>\n",
       "  </thead>\n",
       "  <tbody>\n",
       "    <tr>\n",
       "      <th>0</th>\n",
       "      <td>https://github.com/philiplinell/oidc-client</td>\n",
       "      <td>https://github.com/philiplinell/oidc-client/blob/main/src/oidc/oidc.js</td>\n",
       "      <td>39</td>\n",
       "    </tr>\n",
       "    <tr>\n",
       "      <th>1</th>\n",
       "      <td>https://github.com/sknoslo/cypress-oidc-client</td>\n",
       "      <td>https://github.com/sknoslo/cypress-oidc-client/blob/master/oidc.js</td>\n",
       "      <td>177</td>\n",
       "    </tr>\n",
       "    <tr>\n",
       "      <th>2</th>\n",
       "      <td>https://github.com/LykkeCorp/lykke.com</td>\n",
       "      <td>https://github.com/LykkeCorp/lykke.com/blob/dev/authService.js</td>\n",
       "      <td>43</td>\n",
       "    </tr>\n",
       "    <tr>\n",
       "      <th>3</th>\n",
       "      <td>https://github.com/medaminehamidi/portfolio</td>\n",
       "      <td>https://github.com/medaminehamidi/portfolio/blob/main/auth.js</td>\n",
       "      <td>25</td>\n",
       "    </tr>\n",
       "    <tr>\n",
       "      <th>4</th>\n",
       "      <td>https://github.com/nikolai-git-house/Reed-NextJs-frontend</td>\n",
       "      <td>https://github.com/nikolai-git-house/Reed-NextJs-frontend/blob/master/server/middlewares/auth.js</td>\n",
       "      <td>8</td>\n",
       "    </tr>\n",
       "  </tbody>\n",
       "</table>\n",
       "</div>"
      ],
      "text/plain": [
       "                                                        repo  \\\n",
       "0                https://github.com/philiplinell/oidc-client   \n",
       "1             https://github.com/sknoslo/cypress-oidc-client   \n",
       "2                     https://github.com/LykkeCorp/lykke.com   \n",
       "3                https://github.com/medaminehamidi/portfolio   \n",
       "4  https://github.com/nikolai-git-house/Reed-NextJs-frontend   \n",
       "\n",
       "                                                                                               file  \\\n",
       "0                            https://github.com/philiplinell/oidc-client/blob/main/src/oidc/oidc.js   \n",
       "1                                https://github.com/sknoslo/cypress-oidc-client/blob/master/oidc.js   \n",
       "2                                    https://github.com/LykkeCorp/lykke.com/blob/dev/authService.js   \n",
       "3                                     https://github.com/medaminehamidi/portfolio/blob/main/auth.js   \n",
       "4  https://github.com/nikolai-git-house/Reed-NextJs-frontend/blob/master/server/middlewares/auth.js   \n",
       "\n",
       "   loc  \n",
       "0   39  \n",
       "1  177  \n",
       "2   43  \n",
       "3   25  \n",
       "4    8  "
      ]
     },
     "execution_count": 24,
     "metadata": {},
     "output_type": "execute_result"
    }
   ],
   "source": [
    "df.head()"
   ]
  },
  {
   "cell_type": "code",
   "execution_count": null,
   "id": "416c9a2b",
   "metadata": {},
   "outputs": [],
   "source": []
  },
  {
   "cell_type": "code",
   "execution_count": null,
   "id": "f1f72cd9",
   "metadata": {},
   "outputs": [],
   "source": []
  },
  {
   "cell_type": "code",
   "execution_count": null,
   "id": "fa5ba508",
   "metadata": {},
   "outputs": [],
   "source": []
  },
  {
   "cell_type": "code",
   "execution_count": null,
   "id": "ad822325",
   "metadata": {},
   "outputs": [],
   "source": []
  }
 ],
 "metadata": {
  "kernelspec": {
   "display_name": "aitm-data-collection-28TjpwqE-py3.8",
   "language": "python",
   "name": "aitm-data-collection-28tjpwqe-py3.8"
  },
  "language_info": {
   "codemirror_mode": {
    "name": "ipython",
    "version": 3
   },
   "file_extension": ".py",
   "mimetype": "text/x-python",
   "name": "python",
   "nbconvert_exporter": "python",
   "pygments_lexer": "ipython3",
   "version": "3.8.12"
  }
 },
 "nbformat": 4,
 "nbformat_minor": 5
}
